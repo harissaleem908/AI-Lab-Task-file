{
  "nbformat": 4,
  "nbformat_minor": 0,
  "metadata": {
    "colab": {
      "provenance": []
    },
    "kernelspec": {
      "name": "python3",
      "display_name": "Python 3"
    },
    "language_info": {
      "name": "python"
    }
  },
  "cells": [
    {
      "cell_type": "code",
      "execution_count": 1,
      "metadata": {
        "colab": {
          "base_uri": "https://localhost:8080/"
        },
        "id": "uxhFemglUPAD",
        "outputId": "d5e4faa3-9e30-4560-9ccc-4ebdfa5d8324"
      },
      "outputs": [
        {
          "output_type": "stream",
          "name": "stdout",
          "text": [
            "Hello World!\n",
            "7\n"
          ]
        }
      ],
      "source": [
        "print('Hello World!')\n",
        "a=7\n",
        "print(a)"
      ]
    },
    {
      "cell_type": "code",
      "source": [
        "print(2345)"
      ],
      "metadata": {
        "colab": {
          "base_uri": "https://localhost:8080/"
        },
        "id": "4JNqRUDgUYX8",
        "outputId": "85c128ac-019a-4069-a6b7-9de0d3baea17"
      },
      "execution_count": 2,
      "outputs": [
        {
          "output_type": "stream",
          "name": "stdout",
          "text": [
            "2345\n"
          ]
        }
      ]
    },
    {
      "cell_type": "code",
      "source": [
        "print(\"2092\")"
      ],
      "metadata": {
        "colab": {
          "base_uri": "https://localhost:8080/"
        },
        "id": "_YjqCcq9U1V5",
        "outputId": "b66a1d1a-bb29-44f0-c7df-e64dafeb73ca"
      },
      "execution_count": 3,
      "outputs": [
        {
          "output_type": "stream",
          "name": "stdout",
          "text": [
            "2092\n"
          ]
        }
      ]
    },
    {
      "cell_type": "code",
      "source": [
        "a = 100\n",
        "#print(a)\n",
        "b = \"Haris \"\n",
        "print(b)"
      ],
      "metadata": {
        "colab": {
          "base_uri": "https://localhost:8080/"
        },
        "id": "R0VvRaqeVDNB",
        "outputId": "bda1a239-4e8e-46d1-eeba-6f50729e040c"
      },
      "execution_count": 4,
      "outputs": [
        {
          "output_type": "stream",
          "name": "stdout",
          "text": [
            "Haris \n"
          ]
        }
      ]
    },
    {
      "cell_type": "code",
      "source": [
        "'''It's a course\n",
        "named\n",
        "\"python\"\n",
        "\n",
        "hf'''\n",
        "print(\"Haris Saleem\")"
      ],
      "metadata": {
        "colab": {
          "base_uri": "https://localhost:8080/"
        },
        "id": "yki34BKaVtza",
        "outputId": "60fb8f13-50f7-429b-895f-8b2566e1d30e"
      },
      "execution_count": 5,
      "outputs": [
        {
          "output_type": "stream",
          "name": "stdout",
          "text": [
            "Haris Saleem\n"
          ]
        }
      ]
    },
    {
      "cell_type": "code",
      "source": [
        "print(\"My name is haris saleem\")\n",
        "# print(it is a single line comment)\n",
        "print(\"Haris saleem FA20-BSE-022\")"
      ],
      "metadata": {
        "colab": {
          "base_uri": "https://localhost:8080/"
        },
        "id": "X83CVsioV1Vw",
        "outputId": "742883ed-038e-416a-f39a-e5c1cec47caf"
      },
      "execution_count": 6,
      "outputs": [
        {
          "output_type": "stream",
          "name": "stdout",
          "text": [
            "My name is haris saleem\n",
            "Haris saleem FA20-BSE-022\n"
          ]
        }
      ]
    },
    {
      "cell_type": "code",
      "source": [
        "print(\"\"\"Multi-line String\"\"\")\n",
        "'''for multi-line comment, you can use # with every line or\n",
        "simply use triple inverted commas(multi-line string).\n",
        "ar\n",
        "sar\n",
        "ahghjj \n",
        "'''\n",
        "#single line\n",
        "\n",
        "print(\"My name is ayesha. I'm a student at university.I'm a good student.\")"
      ],
      "metadata": {
        "colab": {
          "base_uri": "https://localhost:8080/"
        },
        "id": "ZBgAtjT0WJLD",
        "outputId": "cde7e5b2-1da7-415c-c9ed-d19d18062552"
      },
      "execution_count": 7,
      "outputs": [
        {
          "output_type": "stream",
          "name": "stdout",
          "text": [
            "Multi-line String\n",
            "My name is ayesha. I'm a student at university.I'm a good student.\n"
          ]
        }
      ]
    },
    {
      "cell_type": "code",
      "source": [
        "a = \"a variable\"\n",
        "iss = \"won't allow a variable\"\n",
        "print(a)\n",
        "print(iss)\n"
      ],
      "metadata": {
        "colab": {
          "base_uri": "https://localhost:8080/"
        },
        "id": "aZzZa_HzWjAZ",
        "outputId": "16e8e50f-363e-4e8b-8374-ce8110d8c5d0"
      },
      "execution_count": 8,
      "outputs": [
        {
          "output_type": "stream",
          "name": "stdout",
          "text": [
            "a variable\n",
            "won't allow a variable\n"
          ]
        }
      ]
    },
    {
      "cell_type": "code",
      "source": [
        "x = 5 \n",
        "y = 10.3\n",
        "print('x')\n",
        "print(y)\n",
        "print(x,y)"
      ],
      "metadata": {
        "colab": {
          "base_uri": "https://localhost:8080/"
        },
        "id": "ohOUunj9W7D3",
        "outputId": "7bd87d8e-56ea-493b-d351-db2f4e143e51"
      },
      "execution_count": 9,
      "outputs": [
        {
          "output_type": "stream",
          "name": "stdout",
          "text": [
            "x\n",
            "10.3\n",
            "5 10.3\n"
          ]
        }
      ]
    },
    {
      "cell_type": "code",
      "source": [
        "a = \"Icode\"\n",
        "b = 'Guru,'\n",
        "print(a,b)\n",
        "print(a,',',b)   #Shortcut ctrl + /"
      ],
      "metadata": {
        "colab": {
          "base_uri": "https://localhost:8080/"
        },
        "id": "uqlDP7QaXSgI",
        "outputId": "811dcbff-c0c7-4003-f417-650716e330af"
      },
      "execution_count": 10,
      "outputs": [
        {
          "output_type": "stream",
          "name": "stdout",
          "text": [
            "Icode Guru,\n",
            "Icode , Guru,\n"
          ]
        }
      ]
    },
    {
      "cell_type": "code",
      "source": [
        "myvariable = \"Python\"\n",
        "print(\"myvariable\")"
      ],
      "metadata": {
        "colab": {
          "base_uri": "https://localhost:8080/"
        },
        "id": "4-xnnzOMXUiP",
        "outputId": "4f4a8f35-5f13-4725-ff7e-da87885ca8b6"
      },
      "execution_count": 11,
      "outputs": [
        {
          "output_type": "stream",
          "name": "stdout",
          "text": [
            "myvariable\n"
          ]
        }
      ]
    },
    {
      "cell_type": "code",
      "source": [
        "_myVar5 = \"iCodeGuru\"\n",
        "myVariableName = 95                 \n",
        "MyVariableName = 'Pakistan'         \n",
        "myVariableName = 88.5 \n",
        "print(myVariableName) "
      ],
      "metadata": {
        "colab": {
          "base_uri": "https://localhost:8080/"
        },
        "id": "XEUmCS_mXYA_",
        "outputId": "71c308df-0a9f-4877-e57e-277cc296bd53"
      },
      "execution_count": 12,
      "outputs": [
        {
          "output_type": "stream",
          "name": "stdout",
          "text": [
            "88.5\n"
          ]
        }
      ]
    },
    {
      "cell_type": "code",
      "source": [
        "a = 10\n",
        "a = 5\n",
        "print(a)"
      ],
      "metadata": {
        "colab": {
          "base_uri": "https://localhost:8080/"
        },
        "id": "JSYY9oSiXcyX",
        "outputId": "b03b35d7-1e50-4e6d-be5d-764fd239b47d"
      },
      "execution_count": 13,
      "outputs": [
        {
          "output_type": "stream",
          "name": "stdout",
          "text": [
            "5\n"
          ]
        }
      ]
    },
    {
      "cell_type": "code",
      "source": [
        "camelCase = 100\n",
        "snake_case = 5.9\n",
        "PascalCase = \"Python\"\n",
        "print(camelCase)"
      ],
      "metadata": {
        "colab": {
          "base_uri": "https://localhost:8080/"
        },
        "id": "7dhot9uqXvxf",
        "outputId": "56628b3b-228f-4874-cbc0-763eca147176"
      },
      "execution_count": 14,
      "outputs": [
        {
          "output_type": "stream",
          "name": "stdout",
          "text": [
            "100\n"
          ]
        }
      ]
    },
    {
      "cell_type": "code",
      "source": [
        "camelCase = 100\n",
        "snake_case = 5.9\n",
        "PascalCase = \"Haris Saleem|\"\n",
        "print(camelCase)\n",
        "print(snake_case)\n",
        "print(PascalCase)"
      ],
      "metadata": {
        "colab": {
          "base_uri": "https://localhost:8080/"
        },
        "id": "mtjQMryVX3am",
        "outputId": "148bba12-ae18-4148-9145-e55f0aa4bf98"
      },
      "execution_count": 16,
      "outputs": [
        {
          "output_type": "stream",
          "name": "stdout",
          "text": [
            "100\n",
            "5.9\n",
            "Haris Saleem|\n"
          ]
        }
      ]
    },
    {
      "cell_type": "code",
      "source": [
        "x, y, z = \"Haris Saleem\", 022, \"Apple\"\n",
        "print(x)\n",
        "print(y)\n",
        "print(z)"
      ],
      "metadata": {
        "colab": {
          "base_uri": "https://localhost:8080/",
          "height": 130
        },
        "id": "Oa7JiJ7FYErO",
        "outputId": "a26e22bb-b4b7-48af-c5c2-e4f998f7a982"
      },
      "execution_count": 17,
      "outputs": [
        {
          "output_type": "error",
          "ename": "SyntaxError",
          "evalue": "ignored",
          "traceback": [
            "\u001b[0;36m  File \u001b[0;32m\"<ipython-input-17-68518c593dd1>\"\u001b[0;36m, line \u001b[0;32m1\u001b[0m\n\u001b[0;31m    x, y, z = \"Haris Saleem\", 022, \"Apple\"\u001b[0m\n\u001b[0m                                ^\u001b[0m\n\u001b[0;31mSyntaxError\u001b[0m\u001b[0;31m:\u001b[0m leading zeros in decimal integer literals are not permitted; use an 0o prefix for octal integers\n"
          ]
        }
      ]
    },
    {
      "cell_type": "code",
      "source": [
        "x, y, z = \"Haris Saleem\", 22, \"Apple\"\n",
        "print(x)\n",
        "print(y)\n",
        "print(z)"
      ],
      "metadata": {
        "colab": {
          "base_uri": "https://localhost:8080/"
        },
        "id": "01i-4n32Yap9",
        "outputId": "6326d0c6-7587-4de1-995e-c6f5c8bef43d"
      },
      "execution_count": 18,
      "outputs": [
        {
          "output_type": "stream",
          "name": "stdout",
          "text": [
            "Haris Saleem\n",
            "22\n",
            "Apple\n"
          ]
        }
      ]
    },
    {
      "cell_type": "code",
      "source": [
        "x, y, z = \"Haris Saleem\", 22, \"COMSATS\"\n",
        "print(x)\n",
        "print(y)\n",
        "print(z)"
      ],
      "metadata": {
        "colab": {
          "base_uri": "https://localhost:8080/"
        },
        "id": "xytidWDNYiZt",
        "outputId": "2a5a9d6f-d70d-43b8-ea55-8ec27fa9370c"
      },
      "execution_count": 19,
      "outputs": [
        {
          "output_type": "stream",
          "name": "stdout",
          "text": [
            "Haris Saleem\n",
            "22\n",
            "COMSATS\n"
          ]
        }
      ]
    },
    {
      "cell_type": "code",
      "source": [
        "a , b = 5 , 8\n",
        "print(a)\n",
        "print(b)"
      ],
      "metadata": {
        "colab": {
          "base_uri": "https://localhost:8080/"
        },
        "id": "jmzox_EEYm4t",
        "outputId": "20071c64-ff8a-44e9-d429-6ff5eb081de2"
      },
      "execution_count": 20,
      "outputs": [
        {
          "output_type": "stream",
          "name": "stdout",
          "text": [
            "5\n",
            "8\n"
          ]
        }
      ]
    },
    {
      "cell_type": "code",
      "source": [
        "x = y = z = \"Haris Saleem\"\n",
        "print(x)\n",
        "print(y)\n",
        "print(z)"
      ],
      "metadata": {
        "colab": {
          "base_uri": "https://localhost:8080/"
        },
        "id": "WKYuo8ckYpuF",
        "outputId": "4775400a-e261-4fa2-df41-b2f71dd74bcd"
      },
      "execution_count": 21,
      "outputs": [
        {
          "output_type": "stream",
          "name": "stdout",
          "text": [
            "Haris Saleem\n",
            "Haris Saleem\n",
            "Haris Saleem\n"
          ]
        }
      ]
    },
    {
      "cell_type": "code",
      "source": [
        "a = b = c = 123\n",
        "print(a)\n",
        "print(b)\n",
        "print(c)"
      ],
      "metadata": {
        "colab": {
          "base_uri": "https://localhost:8080/"
        },
        "id": "0evu13G1Yw7W",
        "outputId": "73c97958-e8b3-4683-bc0a-942dbcc32ab5"
      },
      "execution_count": 22,
      "outputs": [
        {
          "output_type": "stream",
          "name": "stdout",
          "text": [
            "123\n",
            "123\n",
            "123\n"
          ]
        }
      ]
    },
    {
      "cell_type": "code",
      "source": [
        "b = 2\n",
        "print(b)"
      ],
      "metadata": {
        "colab": {
          "base_uri": "https://localhost:8080/"
        },
        "id": "zxG2Xi19Y9aF",
        "outputId": "c1d6bd80-e675-46c0-9eb7-d52e50117a5b"
      },
      "execution_count": 23,
      "outputs": [
        {
          "output_type": "stream",
          "name": "stdout",
          "text": [
            "2\n"
          ]
        }
      ]
    },
    {
      "cell_type": "code",
      "source": [
        "#b = 45\n",
        "print(b)"
      ],
      "metadata": {
        "colab": {
          "base_uri": "https://localhost:8080/"
        },
        "id": "Sob6PlhxZBx9",
        "outputId": "8b3a6ae7-f2fd-4651-82da-ecc7d5fcc016"
      },
      "execution_count": 24,
      "outputs": [
        {
          "output_type": "stream",
          "name": "stdout",
          "text": [
            "2\n"
          ]
        }
      ]
    },
    {
      "cell_type": "code",
      "source": [
        "b = 45\n",
        "print(b)"
      ],
      "metadata": {
        "colab": {
          "base_uri": "https://localhost:8080/"
        },
        "id": "t06L8KQSZGo1",
        "outputId": "ab230b31-66ea-44f9-fc6a-405012d7c234"
      },
      "execution_count": 25,
      "outputs": [
        {
          "output_type": "stream",
          "name": "stdout",
          "text": [
            "45\n"
          ]
        }
      ]
    },
    {
      "cell_type": "code",
      "source": [
        "x , y, z , a = 5 , 6, 7  , 8\n",
        "print(x)\n",
        "print(y)\n",
        "print(z)"
      ],
      "metadata": {
        "colab": {
          "base_uri": "https://localhost:8080/"
        },
        "id": "RJS0vRANZJ51",
        "outputId": "d5fda445-83d9-4052-e216-50a7751ff50e"
      },
      "execution_count": 26,
      "outputs": [
        {
          "output_type": "stream",
          "name": "stdout",
          "text": [
            "5\n",
            "6\n",
            "7\n"
          ]
        }
      ]
    },
    {
      "cell_type": "code",
      "source": [
        "x , y, z , a = 5 , 6, 7  , 8\n",
        "print(x)\n",
        "print(y)\n",
        "print(z)\n",
        "print(a)"
      ],
      "metadata": {
        "colab": {
          "base_uri": "https://localhost:8080/"
        },
        "id": "mem8LL5SZQh9",
        "outputId": "fc7ef320-e94d-4ac8-ae20-60c2bf43d869"
      },
      "execution_count": 27,
      "outputs": [
        {
          "output_type": "stream",
          "name": "stdout",
          "text": [
            "5\n",
            "6\n",
            "7\n",
            "8\n"
          ]
        }
      ]
    },
    {
      "cell_type": "code",
      "source": [
        "x = 5\n",
        "y = 5\n",
        "x = 10\n",
        "print(x)\n",
        "print(y)"
      ],
      "metadata": {
        "colab": {
          "base_uri": "https://localhost:8080/"
        },
        "id": "8aB315KAZXEV",
        "outputId": "3562093d-f019-4543-baa0-356e710b7332"
      },
      "execution_count": 28,
      "outputs": [
        {
          "output_type": "stream",
          "name": "stdout",
          "text": [
            "10\n",
            "5\n"
          ]
        }
      ]
    },
    {
      "cell_type": "code",
      "source": [
        "x = 5\n",
        "y = 5\n",
        "x = 10\n",
        "print(x)\n",
        "print(y)\n",
        "print(id(x))\n",
        "print(id(y))"
      ],
      "metadata": {
        "colab": {
          "base_uri": "https://localhost:8080/"
        },
        "id": "7iMLE88DZdRV",
        "outputId": "141d5323-1cdc-4599-f193-9e8509ded9b3"
      },
      "execution_count": 29,
      "outputs": [
        {
          "output_type": "stream",
          "name": "stdout",
          "text": [
            "10\n",
            "5\n",
            "9793376\n",
            "9793216\n"
          ]
        }
      ]
    },
    {
      "cell_type": "code",
      "source": [
        "x = \"Hello\"\n",
        "print(id(x))\n",
        "y = \"Hello1\"\n",
        "print(id(y))"
      ],
      "metadata": {
        "colab": {
          "base_uri": "https://localhost:8080/"
        },
        "id": "gGPjbDkFZhFt",
        "outputId": "52d89f6b-8b1b-4c48-d2a7-afd770c9a1a7"
      },
      "execution_count": 30,
      "outputs": [
        {
          "output_type": "stream",
          "name": "stdout",
          "text": [
            "139962706427952\n",
            "139962706257904\n"
          ]
        }
      ]
    },
    {
      "cell_type": "code",
      "source": [
        "haris=\"haris saleem\"\n",
        "print(id(haris))"
      ],
      "metadata": {
        "colab": {
          "base_uri": "https://localhost:8080/"
        },
        "id": "kop58Iu4ZpWE",
        "outputId": "c6e291c2-863b-423a-d8bb-86a1ca069a2a"
      },
      "execution_count": 31,
      "outputs": [
        {
          "output_type": "stream",
          "name": "stdout",
          "text": [
            "139962706293616\n"
          ]
        }
      ]
    },
    {
      "cell_type": "code",
      "source": [
        "string_var = \"Haris Saleem\"\n",
        "first_var = 20\n",
        "float_var = 18.23\n",
        "bool_var = False\n",
        "\n",
        "print(string_var)\n",
        "print(first_var)\n",
        "print(float_var)\n",
        "print(bool_var)\n"
      ],
      "metadata": {
        "colab": {
          "base_uri": "https://localhost:8080/"
        },
        "id": "Shd2hzstZyuB",
        "outputId": "b5abad62-acb2-4a02-e883-df5e5c705799"
      },
      "execution_count": 32,
      "outputs": [
        {
          "output_type": "stream",
          "name": "stdout",
          "text": [
            "Haris Saleem\n",
            "20\n",
            "18.23\n",
            "False\n"
          ]
        }
      ]
    },
    {
      "cell_type": "code",
      "source": [
        "Var1 = 5\n",
        "var1 = 1\n",
        "print(var1)\n",
        "print(Var1)\n",
        "var2 = 2.5\n",
        "print(type(var2))\n",
        "var3 = \"\"\"Hello\"\"\"\n",
        "print(type(var3))\n",
        "var4 = True\n",
        "print(type(var4))"
      ],
      "metadata": {
        "colab": {
          "base_uri": "https://localhost:8080/"
        },
        "id": "9cUeUcJsaq68",
        "outputId": "79da0caf-65b9-46d2-c8f7-b76de54a6d6b"
      },
      "execution_count": 33,
      "outputs": [
        {
          "output_type": "stream",
          "name": "stdout",
          "text": [
            "1\n",
            "5\n",
            "<class 'float'>\n",
            "<class 'str'>\n",
            "<class 'bool'>\n"
          ]
        }
      ]
    },
    {
      "cell_type": "code",
      "source": [
        "first = \"105\"\n",
        "print(type(first))\n",
        "first = int(first)\n",
        "print(first)\n",
        "print(type(first))\n",
        "second = 90.8\n",
        "third = str(second)\n",
        "print(third)\n",
        "print(type(third))"
      ],
      "metadata": {
        "colab": {
          "base_uri": "https://localhost:8080/"
        },
        "id": "yXkTCAAja5pb",
        "outputId": "6554cf34-89f1-431d-d0eb-3a4295dcfd7d"
      },
      "execution_count": 34,
      "outputs": [
        {
          "output_type": "stream",
          "name": "stdout",
          "text": [
            "<class 'str'>\n",
            "105\n",
            "<class 'int'>\n",
            "90.8\n",
            "<class 'str'>\n"
          ]
        }
      ]
    },
    {
      "cell_type": "code",
      "source": [
        "string = False\n",
        "string1 = str(string)\n",
        "print(string1)\n",
        "print(type(string1))"
      ],
      "metadata": {
        "colab": {
          "base_uri": "https://localhost:8080/"
        },
        "id": "14tUnnFGbHsM",
        "outputId": "d0c82584-b2ed-4a6e-9877-868db9319826"
      },
      "execution_count": 35,
      "outputs": [
        {
          "output_type": "stream",
          "name": "stdout",
          "text": [
            "False\n",
            "<class 'str'>\n"
          ]
        }
      ]
    },
    {
      "cell_type": "code",
      "source": [
        "integer = 6\n",
        "boolean = bool(integer)\n",
        "print(boolean)"
      ],
      "metadata": {
        "colab": {
          "base_uri": "https://localhost:8080/"
        },
        "id": "XJaFd1KNbRzL",
        "outputId": "dce93116-7bc5-4fd1-87c9-724d52cb5f69"
      },
      "execution_count": 36,
      "outputs": [
        {
          "output_type": "stream",
          "name": "stdout",
          "text": [
            "True\n"
          ]
        }
      ]
    },
    {
      "cell_type": "code",
      "source": [
        "boolean = True\n",
        "integer = int(boolean)\n",
        "print(integer)\n"
      ],
      "metadata": {
        "colab": {
          "base_uri": "https://localhost:8080/"
        },
        "id": "lboaGUQDbnub",
        "outputId": "c4cd2d38-00a0-4130-a506-a140e465372f"
      },
      "execution_count": 37,
      "outputs": [
        {
          "output_type": "stream",
          "name": "stdout",
          "text": [
            "1\n"
          ]
        }
      ]
    },
    {
      "cell_type": "code",
      "source": [
        "x = int(input(\"Enter anything\"))\n",
        "#print(x + 5)\n",
        "#print(type(x))"
      ],
      "metadata": {
        "colab": {
          "base_uri": "https://localhost:8080/"
        },
        "id": "AvIstxNJbtnr",
        "outputId": "c9f18d84-7c07-4439-e5ea-c32e2c47b87d"
      },
      "execution_count": 38,
      "outputs": [
        {
          "name": "stdout",
          "output_type": "stream",
          "text": [
            "Enter anything2\n"
          ]
        }
      ]
    },
    {
      "cell_type": "code",
      "source": [
        "x = int(input(\"Enter anything\"))\n",
        "#print(x + 5)\n",
        "#print(type(x))\n",
        "print(x)"
      ],
      "metadata": {
        "colab": {
          "base_uri": "https://localhost:8080/"
        },
        "id": "Q71NiFa-byQK",
        "outputId": "c01bd323-006c-40a7-c71e-b328aba453c9"
      },
      "execution_count": 39,
      "outputs": [
        {
          "output_type": "stream",
          "name": "stdout",
          "text": [
            "Enter anything4\n",
            "4\n"
          ]
        }
      ]
    },
    {
      "cell_type": "code",
      "source": [
        "print('My name is Tahmas.')\n",
        "a = \"6\""
      ],
      "metadata": {
        "colab": {
          "base_uri": "https://localhost:8080/"
        },
        "id": "mdTGSMjKb3Ei",
        "outputId": "795bb3b9-1dd5-45aa-ccf6-1ffc5c0f5983"
      },
      "execution_count": 40,
      "outputs": [
        {
          "output_type": "stream",
          "name": "stdout",
          "text": [
            "My name is Tahmas.\n"
          ]
        }
      ]
    },
    {
      "cell_type": "code",
      "source": [
        "x = \"Python is\"\n",
        "X = bool(x)\n",
        "print(X)\n",
        "print(type(X))"
      ],
      "metadata": {
        "colab": {
          "base_uri": "https://localhost:8080/"
        },
        "id": "M086jjEfcdyt",
        "outputId": "89b2a8e3-2e3a-49e2-e2af-689ec20a6067"
      },
      "execution_count": 41,
      "outputs": [
        {
          "output_type": "stream",
          "name": "stdout",
          "text": [
            "True\n",
            "<class 'bool'>\n"
          ]
        }
      ]
    },
    {
      "cell_type": "code",
      "source": [
        "a = int(input(\"Enter username: \"))\n",
        "print(a)\n",
        "print(type(a))\n",
        "print(a+2)"
      ],
      "metadata": {
        "colab": {
          "base_uri": "https://localhost:8080/"
        },
        "id": "cTQPdr9QchdL",
        "outputId": "92de4567-8ce0-4d26-c3dd-fef12a1d8618"
      },
      "execution_count": 42,
      "outputs": [
        {
          "output_type": "stream",
          "name": "stdout",
          "text": [
            "Enter username: 12\n",
            "12\n",
            "<class 'int'>\n",
            "14\n"
          ]
        }
      ]
    },
    {
      "cell_type": "code",
      "source": [
        "print(8.0+4)"
      ],
      "metadata": {
        "colab": {
          "base_uri": "https://localhost:8080/"
        },
        "id": "qF89yiUackOj",
        "outputId": "edcb9a69-8317-4191-d66a-f9838282f132"
      },
      "execution_count": 43,
      "outputs": [
        {
          "output_type": "stream",
          "name": "stdout",
          "text": [
            "12.0\n"
          ]
        }
      ]
    },
    {
      "cell_type": "code",
      "source": [
        "#Addition\n",
        "a = int(input(\"Enter a number \"))\n",
        "b = 4\n",
        "c = a + b\n",
        "print(c)\n",
        "print(type(c))\n",
        "#print(3 + 7)"
      ],
      "metadata": {
        "colab": {
          "base_uri": "https://localhost:8080/"
        },
        "id": "XoR_ojnYco2q",
        "outputId": "0daf7e52-d966-4657-bc2c-c8ef71ac13cb"
      },
      "execution_count": 44,
      "outputs": [
        {
          "output_type": "stream",
          "name": "stdout",
          "text": [
            "Enter a number 1\n",
            "5\n",
            "<class 'int'>\n"
          ]
        }
      ]
    },
    {
      "cell_type": "code",
      "source": [
        "#Subtraction\n",
        "a = 4\n",
        "b = 5.0\n",
        "\n",
        "print(a - b)\n",
        "print(type(a - b))\n"
      ],
      "metadata": {
        "colab": {
          "base_uri": "https://localhost:8080/"
        },
        "id": "_ncpoNWQcsDa",
        "outputId": "df5976cc-b14d-4e53-e993-7178f3750901"
      },
      "execution_count": 45,
      "outputs": [
        {
          "output_type": "stream",
          "name": "stdout",
          "text": [
            "-1.0\n",
            "<class 'float'>\n"
          ]
        }
      ]
    },
    {
      "cell_type": "code",
      "source": [
        "#Multiplication\n",
        "a = 2.0\n",
        "b = 4\n",
        "print(a*b)\n",
        "print(type(a*b))"
      ],
      "metadata": {
        "colab": {
          "base_uri": "https://localhost:8080/"
        },
        "id": "CawJjnX7cyKK",
        "outputId": "3d642916-17a1-4dff-cde5-b40afa460d97"
      },
      "execution_count": 46,
      "outputs": [
        {
          "output_type": "stream",
          "name": "stdout",
          "text": [
            "8.0\n",
            "<class 'float'>\n"
          ]
        }
      ]
    },
    {
      "cell_type": "code",
      "source": [
        "#Division\n",
        "x = 5\n",
        "y = 5\n",
        "z = x/y   #12/5\n",
        "print(z)\n",
        "print(type(z))\n",
        "var = int(z)\n",
        "print(var, type(var))"
      ],
      "metadata": {
        "colab": {
          "base_uri": "https://localhost:8080/"
        },
        "id": "QjztIxjMc1fK",
        "outputId": "ef822713-d452-4261-b7f4-5735e1913f3b"
      },
      "execution_count": 47,
      "outputs": [
        {
          "output_type": "stream",
          "name": "stdout",
          "text": [
            "1.0\n",
            "<class 'float'>\n",
            "1 <class 'int'>\n"
          ]
        }
      ]
    },
    {
      "cell_type": "code",
      "source": [
        "#Floor Division\n",
        "x = 5\n",
        "y = 5\n",
        "z = x//y\n",
        "print(z)\n",
        "print(type(z))"
      ],
      "metadata": {
        "colab": {
          "base_uri": "https://localhost:8080/"
        },
        "id": "uXuYXzQ4c4aq",
        "outputId": "fb71961d-7a59-47f4-e39d-9b28cc7c1df5"
      },
      "execution_count": 48,
      "outputs": [
        {
          "output_type": "stream",
          "name": "stdout",
          "text": [
            "1\n",
            "<class 'int'>\n"
          ]
        }
      ]
    },
    {
      "cell_type": "code",
      "source": [
        "#Exponentiation or Exponential\n",
        "x = 5\n",
        "y = 2   # 5 raised to power 2, 5*5\n",
        "print(x**y)  # 1st value = base, 2nd value = power\n",
        "print(type(x**y))"
      ],
      "metadata": {
        "colab": {
          "base_uri": "https://localhost:8080/"
        },
        "id": "z9VrfHmxdjYC",
        "outputId": "0731a172-5303-4f57-e812-044a276c653f"
      },
      "execution_count": 49,
      "outputs": [
        {
          "output_type": "stream",
          "name": "stdout",
          "text": [
            "25\n",
            "<class 'int'>\n"
          ]
        }
      ]
    },
    {
      "cell_type": "code",
      "source": [
        "#Modulus\n",
        "x = 5\n",
        "y = 5\n",
        "print(x%y)\n",
        "print(type(x%y))"
      ],
      "metadata": {
        "colab": {
          "base_uri": "https://localhost:8080/"
        },
        "id": "iqyyT1pId4eS",
        "outputId": "9a335932-c2d3-4633-a43a-c07dfce3fb00"
      },
      "execution_count": 50,
      "outputs": [
        {
          "output_type": "stream",
          "name": "stdout",
          "text": [
            "0\n",
            "<class 'int'>\n"
          ]
        }
      ]
    },
    {
      "cell_type": "code",
      "source": [
        "#print('comment')\n",
        "a = \"\"\"mulitiline\n",
        "comment\n",
        "\"\"\n",
        "''\n",
        "lsdfh\"\"\"\n",
        "print(a)"
      ],
      "metadata": {
        "colab": {
          "base_uri": "https://localhost:8080/"
        },
        "id": "ZuEeQlWEd6ES",
        "outputId": "bee3c44a-4338-4ebd-b541-1b4b8d86d088"
      },
      "execution_count": 51,
      "outputs": [
        {
          "output_type": "stream",
          "name": "stdout",
          "text": [
            "mulitiline\n",
            "comment\n",
            "\"\"\n",
            "''\n",
            "lsdfh\n"
          ]
        }
      ]
    },
    {
      "cell_type": "code",
      "source": [
        "print(12 + 5 * (4 - 2))"
      ],
      "metadata": {
        "colab": {
          "base_uri": "https://localhost:8080/"
        },
        "id": "xCBEsLZKd-oZ",
        "outputId": "ad58ec6b-f076-439d-aa56-19f199cafa82"
      },
      "execution_count": 52,
      "outputs": [
        {
          "output_type": "stream",
          "name": "stdout",
          "text": [
            "22\n"
          ]
        }
      ]
    },
    {
      "cell_type": "code",
      "source": [
        "x = 5\n",
        "#x += 3    # x = x+3\n",
        "#x -= 3      # x = x - 3\n",
        "#x *= x       # x = 5*5\n",
        "#x /= 3        # x = x/3\n",
        "#x %= 3\n",
        "#x //= 3\n",
        "x **= 3       \n",
        "print(x)"
      ],
      "metadata": {
        "colab": {
          "base_uri": "https://localhost:8080/"
        },
        "id": "nq1vQ4mNeA95",
        "outputId": "b36f8080-da2e-42ad-ea7a-9aea653eaa12"
      },
      "execution_count": 53,
      "outputs": [
        {
          "output_type": "stream",
          "name": "stdout",
          "text": [
            "125\n"
          ]
        }
      ]
    },
    {
      "cell_type": "code",
      "source": [
        "x = 5\n",
        "x **= 5    #x = x**5\n",
        "print(x)"
      ],
      "metadata": {
        "colab": {
          "base_uri": "https://localhost:8080/"
        },
        "id": "aM_TiUZReiRR",
        "outputId": "5c31417b-d4b7-414a-ff66-a0802a2eff48"
      },
      "execution_count": 54,
      "outputs": [
        {
          "output_type": "stream",
          "name": "stdout",
          "text": [
            "3125\n"
          ]
        }
      ]
    },
    {
      "cell_type": "code",
      "source": [
        "a = 7\n",
        "b = 10\n",
        "print(a!=b)\n",
        "#print(a==b)\n",
        "#print(a<b)"
      ],
      "metadata": {
        "colab": {
          "base_uri": "https://localhost:8080/"
        },
        "id": "BrMOgHqHekVa",
        "outputId": "0455d790-c741-4817-b0de-6a018c0c5f15"
      },
      "execution_count": 55,
      "outputs": [
        {
          "output_type": "stream",
          "name": "stdout",
          "text": [
            "True\n"
          ]
        }
      ]
    },
    {
      "cell_type": "code",
      "source": [
        "a = 10\n",
        "b = 10\n",
        "print(a!=b)\n",
        "#print(a==b)\n",
        "#print(a<b)"
      ],
      "metadata": {
        "colab": {
          "base_uri": "https://localhost:8080/"
        },
        "id": "6XBBl5eKephJ",
        "outputId": "d09137c3-b827-4ca6-cd82-7fe65ce76ece"
      },
      "execution_count": 56,
      "outputs": [
        {
          "output_type": "stream",
          "name": "stdout",
          "text": [
            "False\n"
          ]
        }
      ]
    },
    {
      "cell_type": "code",
      "source": [
        "x = 9\n",
        "#print(x < 11 and  x < 10)\n",
        "print(x < 5 or x < 10)\n",
        "print(not (x < 5 not x < 10))\n",
        "print(not x > 10)\t"
      ],
      "metadata": {
        "colab": {
          "base_uri": "https://localhost:8080/",
          "height": 130
        },
        "id": "I-Hnu3WKeuYB",
        "outputId": "371ebdee-fd69-4df1-df91-dbc6b6e401b8"
      },
      "execution_count": 57,
      "outputs": [
        {
          "output_type": "error",
          "ename": "SyntaxError",
          "evalue": "ignored",
          "traceback": [
            "\u001b[0;36m  File \u001b[0;32m\"<ipython-input-57-555b8315496f>\"\u001b[0;36m, line \u001b[0;32m4\u001b[0m\n\u001b[0;31m    print(not (x < 5 not x < 10))\u001b[0m\n\u001b[0m                         ^\u001b[0m\n\u001b[0;31mSyntaxError\u001b[0m\u001b[0;31m:\u001b[0m invalid syntax\n"
          ]
        }
      ]
    },
    {
      "cell_type": "code",
      "source": [
        "x = 9\n",
        "print(not x>10)"
      ],
      "metadata": {
        "colab": {
          "base_uri": "https://localhost:8080/"
        },
        "id": "dfjN1wrZe1EA",
        "outputId": "da64a38c-26fb-4a0c-e4bb-b4132462eacc"
      },
      "execution_count": 58,
      "outputs": [
        {
          "output_type": "stream",
          "name": "stdout",
          "text": [
            "True\n"
          ]
        }
      ]
    },
    {
      "cell_type": "code",
      "source": [
        "a = 20\n",
        "b = 70\n",
        "print(a==b or a>b)"
      ],
      "metadata": {
        "colab": {
          "base_uri": "https://localhost:8080/"
        },
        "id": "SmUspKvRfFsh",
        "outputId": "865796c3-4f23-46ff-eab1-8df415539758"
      },
      "execution_count": 59,
      "outputs": [
        {
          "output_type": "stream",
          "name": "stdout",
          "text": [
            "False\n"
          ]
        }
      ]
    },
    {
      "cell_type": "code",
      "source": [
        "var1 = \"Python for Beginners\"\n",
        "#print(\"p\" in var1)\n",
        "var2 = [\"orange\", 5, \"3.5\"]\n",
        "#print(\"orange\" not in var2)\n",
        "\n",
        "print(\"o\" in \"iCodeGuru\")"
      ],
      "metadata": {
        "colab": {
          "base_uri": "https://localhost:8080/"
        },
        "id": "G14ag1rKfIjA",
        "outputId": "2c60c13f-6778-4dc9-ff90-a42239c83b43"
      },
      "execution_count": 60,
      "outputs": [
        {
          "output_type": "stream",
          "name": "stdout",
          "text": [
            "True\n"
          ]
        }
      ]
    },
    {
      "cell_type": "code",
      "source": [
        "a = 10\n",
        "b = 10\n",
        "\n",
        "print(a is b)\n",
        "print(id(a))\n",
        "print(id(b))"
      ],
      "metadata": {
        "colab": {
          "base_uri": "https://localhost:8080/"
        },
        "id": "9eB8LnWcfLQg",
        "outputId": "0f0c66b7-63af-4d10-b345-f7569ae41204"
      },
      "execution_count": 61,
      "outputs": [
        {
          "output_type": "stream",
          "name": "stdout",
          "text": [
            "True\n",
            "9793376\n",
            "9793376\n"
          ]
        }
      ]
    },
    {
      "cell_type": "code",
      "source": [
        "a = 10\n",
        "b = \"10\"\n",
        "#a = 11\n",
        "print(a is b)\n",
        "print(id(a))\n",
        "print(id(b))"
      ],
      "metadata": {
        "colab": {
          "base_uri": "https://localhost:8080/"
        },
        "id": "tkgr2hFKfi14",
        "outputId": "4e82e21d-4729-4ccc-d2c3-a1b3cdfb415e"
      },
      "execution_count": 62,
      "outputs": [
        {
          "output_type": "stream",
          "name": "stdout",
          "text": [
            "False\n",
            "9793376\n",
            "139963829405616\n"
          ]
        }
      ]
    },
    {
      "cell_type": "code",
      "source": [
        "x = \"Python\"\n",
        "print(x)\n",
        "y = 'Programming'\n",
        "print(y)"
      ],
      "metadata": {
        "colab": {
          "base_uri": "https://localhost:8080/"
        },
        "id": "Zu3p2N4OfmgY",
        "outputId": "a73feef1-7f2e-4b19-babf-a1139bb1441e"
      },
      "execution_count": 63,
      "outputs": [
        {
          "output_type": "stream",
          "name": "stdout",
          "text": [
            "Python\n",
            "Programming\n"
          ]
        }
      ]
    },
    {
      "cell_type": "code",
      "source": [
        "message1 = \"\"\"Hello there, I am learning\n",
        "python programming language!\"\"\"\n",
        "print(message1)\n",
        "message2 = '''\n",
        "\n",
        "Now, we are learning about \n",
        "multiline string'''\n",
        "print(message2)"
      ],
      "metadata": {
        "colab": {
          "base_uri": "https://localhost:8080/"
        },
        "id": "M8ZeFss2fq_Q",
        "outputId": "c8c68e64-e75a-4edd-fae6-d82fb5b7cdbf"
      },
      "execution_count": 64,
      "outputs": [
        {
          "output_type": "stream",
          "name": "stdout",
          "text": [
            "Hello there, I am learning\n",
            "python programming language!\n",
            "\n",
            "\n",
            "Now, we are learning about \n",
            "multiline string\n"
          ]
        }
      ]
    },
    {
      "cell_type": "code",
      "source": [
        "x = \"String\"\n",
        "y = \"Concatenation\"\n",
        "print(x + y)\n",
        "z = x + \" \" + y  #z = StringConcatenation\n",
        "\n",
        "print(z)"
      ],
      "metadata": {
        "colab": {
          "base_uri": "https://localhost:8080/"
        },
        "id": "uXFF1rfdftL4",
        "outputId": "55012e5c-4632-417f-c2df-69a17e1c5ef6"
      },
      "execution_count": 65,
      "outputs": [
        {
          "output_type": "stream",
          "name": "stdout",
          "text": [
            "StringConcatenation\n",
            "String Concatenation\n"
          ]
        }
      ]
    },
    {
      "cell_type": "code",
      "source": [
        "x = \"Hello\"\n",
        "print(x[4])\n",
        "print(x[0])\n",
        "print(id(x))\n",
        "\n",
        "print(id(x[0]))\n",
        "print(id(x[1]))\n",
        "message = \"\"\"Hello there, I am learning\n",
        "python programming language!\"\"\"\n",
        "print(message[6])"
      ],
      "metadata": {
        "colab": {
          "base_uri": "https://localhost:8080/"
        },
        "id": "dp2RdfWRf2kA",
        "outputId": "5f47aca2-b133-44bc-ed92-e1b58453eb62"
      },
      "execution_count": 66,
      "outputs": [
        {
          "output_type": "stream",
          "name": "stdout",
          "text": [
            "o\n",
            "H\n",
            "139962706427952\n",
            "139963834390832\n",
            "139963834834672\n",
            "t\n"
          ]
        }
      ]
    },
    {
      "cell_type": "code",
      "source": [
        "x = \"Enter\"\n",
        "print(id(x))\n",
        "print(id(x[0]))"
      ],
      "metadata": {
        "colab": {
          "base_uri": "https://localhost:8080/"
        },
        "id": "h-pZaODcf504",
        "outputId": "af4f0687-322f-47d3-e969-6f74eb6b56c6"
      },
      "execution_count": 67,
      "outputs": [
        {
          "output_type": "stream",
          "name": "stdout",
          "text": [
            "139963817287920\n",
            "139963834390640\n"
          ]
        }
      ]
    },
    {
      "cell_type": "code",
      "source": [
        "x = \"Pakistan \"\n",
        "print(x*5)"
      ],
      "metadata": {
        "colab": {
          "base_uri": "https://localhost:8080/"
        },
        "id": "5ficyAs-f-Kg",
        "outputId": "f758c9ab-1486-4d22-df26-1cca23481962"
      },
      "execution_count": 68,
      "outputs": [
        {
          "output_type": "stream",
          "name": "stdout",
          "text": [
            "Pakistan Pakistan Pakistan Pakistan Pakistan \n"
          ]
        }
      ]
    },
    {
      "cell_type": "code",
      "source": [
        "x = \"Hello\"\n",
        "print(id(x))\n",
        "print(id(x[3]))"
      ],
      "metadata": {
        "colab": {
          "base_uri": "https://localhost:8080/"
        },
        "id": "KZX-W_mBgBmY",
        "outputId": "4692ef0c-ae5b-4443-e9a4-7ee0026956ed"
      },
      "execution_count": 69,
      "outputs": [
        {
          "output_type": "stream",
          "name": "stdout",
          "text": [
            "139962706427952\n",
            "139963834912432\n"
          ]
        }
      ]
    },
    {
      "cell_type": "code",
      "source": [
        "list1 = [2, 3, 4, 66]     #[66, 3, 4, 2]\n",
        "list1[0] = list1[3]\n",
        "print(list1)"
      ],
      "metadata": {
        "colab": {
          "base_uri": "https://localhost:8080/"
        },
        "id": "_ZqD8ZNkgEZA",
        "outputId": "55d11807-1b38-46f1-886d-784c56ee675f"
      },
      "execution_count": 70,
      "outputs": [
        {
          "output_type": "stream",
          "name": "stdout",
          "text": [
            "[66, 3, 4, 66]\n"
          ]
        }
      ]
    },
    {
      "cell_type": "code",
      "source": [
        "string = \"Python Programming Language\"\n",
        "# print(string[2])\n",
        "print(len(string))\n",
        "x = len(string)\n",
        "print(x)"
      ],
      "metadata": {
        "colab": {
          "base_uri": "https://localhost:8080/"
        },
        "id": "fah7T9orgH5w",
        "outputId": "0d64f7df-3868-44c4-cacf-8345ace44b1c"
      },
      "execution_count": 71,
      "outputs": [
        {
          "output_type": "stream",
          "name": "stdout",
          "text": [
            "27\n",
            "27\n"
          ]
        }
      ]
    },
    {
      "cell_type": "code",
      "source": [
        "string = \"Python Programming\"\n",
        "print(string.index(\"Po\"))\n",
        "index = string.index(\"y\")\n",
        "print(index)"
      ],
      "metadata": {
        "colab": {
          "base_uri": "https://localhost:8080/",
          "height": 217
        },
        "id": "jtFEQvMogKSg",
        "outputId": "e554ce0c-dd0e-471e-ec1e-ebcc7e46fdf3"
      },
      "execution_count": 72,
      "outputs": [
        {
          "output_type": "error",
          "ename": "ValueError",
          "evalue": "ignored",
          "traceback": [
            "\u001b[0;31m---------------------------------------------------------------------------\u001b[0m",
            "\u001b[0;31mValueError\u001b[0m                                Traceback (most recent call last)",
            "\u001b[0;32m<ipython-input-72-686eee9ec8d6>\u001b[0m in \u001b[0;36m<module>\u001b[0;34m\u001b[0m\n\u001b[1;32m      1\u001b[0m \u001b[0mstring\u001b[0m \u001b[0;34m=\u001b[0m \u001b[0;34m\"Python Programming\"\u001b[0m\u001b[0;34m\u001b[0m\u001b[0;34m\u001b[0m\u001b[0m\n\u001b[0;32m----> 2\u001b[0;31m \u001b[0mprint\u001b[0m\u001b[0;34m(\u001b[0m\u001b[0mstring\u001b[0m\u001b[0;34m.\u001b[0m\u001b[0mindex\u001b[0m\u001b[0;34m(\u001b[0m\u001b[0;34m\"Po\"\u001b[0m\u001b[0;34m)\u001b[0m\u001b[0;34m)\u001b[0m\u001b[0;34m\u001b[0m\u001b[0;34m\u001b[0m\u001b[0m\n\u001b[0m\u001b[1;32m      3\u001b[0m \u001b[0mindex\u001b[0m \u001b[0;34m=\u001b[0m \u001b[0mstring\u001b[0m\u001b[0;34m.\u001b[0m\u001b[0mindex\u001b[0m\u001b[0;34m(\u001b[0m\u001b[0;34m\"y\"\u001b[0m\u001b[0;34m)\u001b[0m\u001b[0;34m\u001b[0m\u001b[0;34m\u001b[0m\u001b[0m\n\u001b[1;32m      4\u001b[0m \u001b[0mprint\u001b[0m\u001b[0;34m(\u001b[0m\u001b[0mindex\u001b[0m\u001b[0;34m)\u001b[0m\u001b[0;34m\u001b[0m\u001b[0;34m\u001b[0m\u001b[0m\n",
            "\u001b[0;31mValueError\u001b[0m: substring not found"
          ]
        }
      ]
    },
    {
      "cell_type": "code",
      "source": [
        "for iterator in \"hello+\":\n",
        "  print(iterator)\n",
        "for x in \"Python\":\n",
        "   print(\"1\")"
      ],
      "metadata": {
        "colab": {
          "base_uri": "https://localhost:8080/"
        },
        "id": "1XPCCIVGgXxw",
        "outputId": "acfa06ac-85e0-44e2-f36f-8320f39efe09"
      },
      "execution_count": 73,
      "outputs": [
        {
          "output_type": "stream",
          "name": "stdout",
          "text": [
            "h\n",
            "e\n",
            "l\n",
            "l\n",
            "o\n",
            "+\n",
            "1\n",
            "1\n",
            "1\n",
            "1\n",
            "1\n",
            "1\n"
          ]
        }
      ]
    },
    {
      "cell_type": "code",
      "source": [
        "x = \"How to use membership operator\"\n",
        "print(\"o\" in x)\n",
        "\n",
        "print(\"Yes\" not in \"Python\")"
      ],
      "metadata": {
        "colab": {
          "base_uri": "https://localhost:8080/"
        },
        "id": "bEnFWwkGgeT3",
        "outputId": "974331d0-c577-44d5-e041-d8315f07b2fd"
      },
      "execution_count": 74,
      "outputs": [
        {
          "output_type": "stream",
          "name": "stdout",
          "text": [
            "True\n",
            "True\n"
          ]
        }
      ]
    },
    {
      "cell_type": "code",
      "source": [
        "x = \"Hello\"\n",
        "print(x[:])\n",
        "print(x[2::2])"
      ],
      "metadata": {
        "colab": {
          "base_uri": "https://localhost:8080/"
        },
        "id": "TTPsaeCngn3f",
        "outputId": "11b8c2f7-ed11-48be-ef8e-bd13d5a8545b"
      },
      "execution_count": 75,
      "outputs": [
        {
          "output_type": "stream",
          "name": "stdout",
          "text": [
            "Hello\n",
            "lo\n"
          ]
        }
      ]
    },
    {
      "cell_type": "code",
      "source": [
        "x = \"Hello World\"\n",
        "print(x[::-1])\n"
      ],
      "metadata": {
        "colab": {
          "base_uri": "https://localhost:8080/"
        },
        "id": "tNDR4L3Rg5Q4",
        "outputId": "c71f5523-0305-4880-a601-4ed6409b2688"
      },
      "execution_count": 76,
      "outputs": [
        {
          "output_type": "stream",
          "name": "stdout",
          "text": [
            "dlroW olleH\n"
          ]
        }
      ]
    },
    {
      "cell_type": "code",
      "source": [
        "string = \"We are learning about string slicing.\"\n",
        "print(len(string))\n",
        "print(string.index(\" \"))\n",
        "print(string[2])\n",
        "print(string[4])\n",
        "print(string[3:9:2])\n",
        "print(string[:36:3])\n",
        "print(string[7::])"
      ],
      "metadata": {
        "id": "6F0SecnVg66v",
        "outputId": "d7aede07-74ba-4061-aa37-c7bbbf534ba5",
        "colab": {
          "base_uri": "https://localhost:8080/"
        }
      },
      "execution_count": 77,
      "outputs": [
        {
          "output_type": "stream",
          "name": "stdout",
          "text": [
            "37\n",
            "2\n",
            " \n",
            "r\n",
            "ael\n",
            "Wa ai o rgli\n",
            "learning about string slicing.\n"
          ]
        }
      ]
    },
    {
      "cell_type": "code",
      "source": [],
      "metadata": {
        "id": "JKblNatGg9Ge"
      },
      "execution_count": null,
      "outputs": []
    }
  ]
}